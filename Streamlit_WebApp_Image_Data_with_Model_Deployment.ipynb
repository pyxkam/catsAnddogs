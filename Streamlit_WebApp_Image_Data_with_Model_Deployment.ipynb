{
  "cells": [
    {
      "cell_type": "markdown",
      "metadata": {
        "id": "view-in-github",
        "colab_type": "text"
      },
      "source": [
        "<a href=\"https://colab.research.google.com/github/pyxkam/catsAnddogs/blob/main/Streamlit_WebApp_Image_Data_with_Model_Deployment.ipynb\" target=\"_parent\"><img src=\"https://colab.research.google.com/assets/colab-badge.svg\" alt=\"Open In Colab\"/></a>"
      ]
    },
    {
      "cell_type": "code",
      "execution_count": 11,
      "metadata": {
        "id": "UyJUbEPtvUWP"
      },
      "outputs": [],
      "source": [
        "!pip install protobuf streamlit rdkit --quiet"
      ]
    },
    {
      "cell_type": "code",
      "execution_count": 27,
      "metadata": {
        "colab": {
          "base_uri": "https://localhost:8080/"
        },
        "id": "2j-_kK1vsaiZ",
        "outputId": "45a7f26d-5008-4eb4-a3c8-62dfbcb42aaf"
      },
      "outputs": [
        {
          "output_type": "stream",
          "name": "stdout",
          "text": [
            "Overwriting app.py\n"
          ]
        }
      ],
      "source": [
        "%%writefile app.py\n",
        "import streamlit as st\n",
        "import json\n",
        "import requests\n",
        "import base64\n",
        "from PIL import Image\n",
        "import io\n",
        "\n",
        "\n",
        "#these are main classes your image is trained on\n",
        "#you can define the classes in alphabectical order\n",
        "PREDICTED_LABELS = [\"Starwars\", \"Marvel\",\"Jurassic world\",\"Harry potter\"]\n",
        "\n",
        "\n",
        "def get_prediction(image_data):\n",
        "  #replace your image classification ai service URL\n",
        "  url = 'https://askai.aiclub.world/58ee5354-f52a-485c-b331-36291d21fa51'\n",
        "  #url = 'https://askai.aiclub.world/0dab0b7f-86dc-45dd-8d06-6696b57802b9'\n",
        "  r = requests.post(url, data=image_data)\n",
        "  response = r.json()['predicted_label']\n",
        "  score = r.json()['score']\n",
        "  #print(\"Predicted_label: {} and confidence_score: {}\".format(response,score))\n",
        "  return response, score\n",
        "\n",
        "\n",
        "#creating the web app\n",
        "\n",
        "#setting up the title\n",
        "st.title(\"Legofigurine Image Classifier\")#change according to your project\n",
        "#setting up the subheader\n",
        "st.subheader(\"File Uploader\")#change according to your project\n",
        "\n",
        "#file uploader\n",
        "image = st.file_uploader(label=\"Upload an image\",accept_multiple_files=False, help=\"Upload an image to classify them\")\n",
        "if image:\n",
        "    #converting the image to bytes\n",
        "    img = Image.open(image)\n",
        "    buf = io.BytesIO()\n",
        "    img.save(buf,format = 'JPEG')\n",
        "    byte_im = buf.getvalue()\n",
        "\n",
        "    #converting bytes to b64encoding\n",
        "    payload = base64.b64encode(byte_im)\n",
        "\n",
        "    #file details\n",
        "    file_details = {\n",
        "      \"file name\": image.name,\n",
        "      \"file type\": image.type,\n",
        "      \"file size\": image.size\n",
        "    }\n",
        "\n",
        "    #write file details\n",
        "    st.write(file_details)\n",
        "\n",
        "    #setting up the image\n",
        "    st.image(img)\n",
        "\n",
        "    #predictions\n",
        "    response, scores = get_prediction(payload)\n",
        "\n",
        "    #if you are using the model deployment in navigator\n",
        "    #you need to define the labels\n",
        "    response_label = response #animal[response] #PREDICTED_LABELS[response]\n",
        "\n",
        "    col1, col2 = st.columns(2)\n",
        "    with col1:\n",
        "      st.metric(\"Prediction Label\",response_label)\n",
        "    with col2:\n",
        "      st.metric(\"Confidence Score\", max(scores))\n",
        "\n",
        "\n",
        "\n"
      ]
    },
    {
      "cell_type": "code",
      "execution_count": 28,
      "metadata": {
        "colab": {
          "base_uri": "https://localhost:8080/"
        },
        "id": "vGYuJEp936Eh",
        "outputId": "1f818f9c-70e7-4456-c587-962b8f979231"
      },
      "outputs": [
        {
          "output_type": "stream",
          "name": "stdout",
          "text": [
            "34.73.35.25\n"
          ]
        }
      ],
      "source": [
        "! wget -q -O - ipv4.icanhazip.com"
      ]
    },
    {
      "cell_type": "code",
      "execution_count": null,
      "metadata": {
        "colab": {
          "base_uri": "https://localhost:8080/"
        },
        "id": "HmFL5w1zu1qp",
        "outputId": "5aabc32c-97d6-4987-9163-23f212033a65"
      },
      "outputs": [
        {
          "output_type": "stream",
          "name": "stdout",
          "text": [
            "\n",
            "Collecting usage statistics. To deactivate, set browser.gatherUsageStats to false.\n",
            "\u001b[0m\n",
            "\u001b[0m\n",
            "\u001b[34m\u001b[1m  You can now view your Streamlit app in your browser.\u001b[0m\n",
            "\u001b[0m\n",
            "\u001b[34m  Local URL: \u001b[0m\u001b[1mhttp://localhost:8501\u001b[0m\n",
            "\u001b[34m  Network URL: \u001b[0m\u001b[1mhttp://172.28.0.12:8501\u001b[0m\n",
            "\u001b[34m  External URL: \u001b[0m\u001b[1mhttp://34.73.35.25:8501\u001b[0m\n",
            "\u001b[0m\n",
            "\u001b[K\u001b[?25hnpx: installed 22 in 2.363s\n",
            "your url is: https://soft-lines-look.loca.lt\n"
          ]
        }
      ],
      "source": [
        "!streamlit run app.py & npx localtunnel --port 8501"
      ]
    }
  ],
  "metadata": {
    "colab": {
      "provenance": [],
      "include_colab_link": true
    },
    "kernelspec": {
      "display_name": "Python 3",
      "name": "python3"
    },
    "language_info": {
      "name": "python"
    }
  },
  "nbformat": 4,
  "nbformat_minor": 0
}